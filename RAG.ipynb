{
 "cells": [
  {
   "cell_type": "code",
   "execution_count": 11,
   "metadata": {},
   "outputs": [],
   "source": [
    "#utility\n",
    "from IPython.display import display , Markdown\n",
    "import textwrap\n",
    "\n",
    "def to_makedown(text):\n",
    "    text =text.replace('•', '  *')\n",
    "    return Markdown(textwrap.indent(text, '> ', predicate= lambda _: True))\n"
   ]
  },
  {
   "cell_type": "code",
   "execution_count": 12,
   "metadata": {},
   "outputs": [],
   "source": [
    "import google.generativeai as genai"
   ]
  },
  {
   "cell_type": "code",
   "execution_count": 15,
   "metadata": {},
   "outputs": [],
   "source": [
    "#Calling api\n",
    "API_KEY =\"YOUR KEY\"\n",
    "genai.configure(api_key=API_KEY)"
   ]
  },
  {
   "cell_type": "code",
   "execution_count": 4,
   "metadata": {},
   "outputs": [
    {
     "data": {
      "text/plain": [
       " genai.GenerativeModel(\n",
       "   model_name='models/gemini-pro',\n",
       "   generation_config={}.\n",
       "   safety_settings={}\n",
       ")"
      ]
     },
     "execution_count": 4,
     "metadata": {},
     "output_type": "execute_result"
    }
   ],
   "source": [
    "#Models\n",
    "model= genai.GenerativeModel(model_name=\"gemini-pro\")\n",
    "model"
   ]
  },
  {
   "cell_type": "code",
   "execution_count": 23,
   "metadata": {},
   "outputs": [
    {
     "data": {
      "text/markdown": [
       "**Positive aspects:**\n",
       "\n",
       "* **Sweet and juicy:** Mangoes are known for their delicious, sweet, and juicy flesh.\n",
       "* **Rich in nutrients:** They are a good source of vitamins A, C, E, B6, and K, as well as minerals such as potassium, magnesium, copper, and zinc.\n",
       "* **Antioxidant properties:** Mangoes contain antioxidants that may help protect against cellular damage and reduce the risk of chronic diseases.\n",
       "* **Fiber content:** They are a good source of dietary fiber, which can promote digestive health and help maintain a healthy weight.\n",
       "* **Versatile:** Mangoes can be eaten fresh, used in smoothies, desserts, and savory dishes, and even pickled.\n",
       "\n",
       "**Negative aspects:**\n",
       "\n",
       "* **High in sugar:** Mangoes are relatively high in natural sugars, so excessive consumption may be problematic for individuals with diabetes or other blood sugar control issues.\n",
       "* **Allergic reactions:** Some individuals may be allergic to mangoes, experiencing symptoms such as hives, swelling, and difficulty breathing.\n",
       "* **Digestive issues:** Consuming large amounts of mangoes may cause digestive discomfort in some people, such as diarrhea or stomach upset.\n",
       "* **Seasonality:** Mangoes are only available seasonally, typically from spring to summer, making them less accessible during other times of the year.\n",
       "\n",
       "**Overall:**\n",
       "\n",
       "Mangoes are a nutritious and delicious fruit that offers numerous health benefits. However, it is important to consume them in moderation due to their high sugar content. If you have any concerns about allergies or digestive issues, it is advisable to consult with a healthcare professional before consuming mangoes."
      ],
      "text/plain": [
       "<IPython.core.display.Markdown object>"
      ]
     },
     "execution_count": 23,
     "metadata": {},
     "output_type": "execute_result"
    }
   ],
   "source": [
    "#ask gemini\n",
    "response = model.generate_content(\"what you think about mangoes?\")\n",
    "Markdown(response.text)"
   ]
  },
  {
   "cell_type": "code",
   "execution_count": 17,
   "metadata": {},
   "outputs": [],
   "source": [
    "#with LangChain\n",
    "from langchain_google_genai import ChatGoogleGenerativeAI"
   ]
  },
  {
   "cell_type": "code",
   "execution_count": 18,
   "metadata": {},
   "outputs": [],
   "source": [
    "llm = ChatGoogleGenerativeAI(model=\"gemini-pro\",google_api_key=API_KEY)"
   ]
  },
  {
   "cell_type": "code",
   "execution_count": 24,
   "metadata": {},
   "outputs": [],
   "source": [
    "result= llm.invoke(\"What you think about mangoes?\")"
   ]
  },
  {
   "cell_type": "code",
   "execution_count": 25,
   "metadata": {},
   "outputs": [
    {
     "data": {
      "text/plain": [
       "\"**Positive Attributes:**\\n\\n* **Sweet and juicy:** Mangoes are renowned for their sweet and juicy flesh, making them a popular fruit for desserts, smoothies, and other culinary creations.\\n* **Rich in nutrients:** Mangoes are packed with essential vitamins and minerals, including vitamin C, potassium, iron, and fiber. They are a good source of antioxidants, which can help protect the body against cellular damage.\\n* **Versatile:** Mangoes can be consumed fresh, frozen, dried, or processed into various products such as juices, jellies, and even pickles. They add a tropical touch to many cuisines worldwide.\\n* **Medicinal properties:** Mangoes have traditionally been used in Ayurvedic medicine to treat a range of ailments, including digestive disorders, skin conditions, and fevers.\\n* **Tropical aroma:** The distinctive aroma of mangoes evokes thoughts of warm climates and exotic destinations, making them a sensory delight.\\n\\n**Potential Drawbacks:**\\n\\n* **Messy:** Ripe mangoes can be quite messy to eat, with their juicy flesh and sticky sap. This can be a deterrent for some people.\\n* **Allergies:** Some people may experience allergic reactions to mangoes, particularly if they are allergic to the sap. Symptoms can range from skin irritation to respiratory issues.\\n* **Seasonal availability:** Mangoes are typically seasonal fruits and may not be readily available all year round.\\n* **High calorie content:** While mangoes are nutritious, they also contain a relatively high amount of calories. This should be considered when consuming them as part of a balanced diet.\\n* **Unripe fruit:** Unripe mangoes can be very sour and unpleasant to eat. It's important to choose mangoes that are fully ripe for the best flavor and nutritional value.\\n\\n**Overall:**\\n\\nMangoes are a delicious, nutritious, and versatile tropical fruit that offers numerous health benefits. While they can be somewhat messy to consume and may have potential drawbacks for some individuals, they remain a popular favorite for many people around the world.\""
      ]
     },
     "execution_count": 25,
     "metadata": {},
     "output_type": "execute_result"
    }
   ],
   "source": [
    "result.content"
   ]
  },
  {
   "cell_type": "code",
   "execution_count": 26,
   "metadata": {},
   "outputs": [
    {
     "data": {
      "text/markdown": [
       "**Positive Attributes:**\n",
       "\n",
       "* **Sweet and juicy:** Mangoes are renowned for their sweet and juicy flesh, making them a popular fruit for desserts, smoothies, and other culinary creations.\n",
       "* **Rich in nutrients:** Mangoes are packed with essential vitamins and minerals, including vitamin C, potassium, iron, and fiber. They are a good source of antioxidants, which can help protect the body against cellular damage.\n",
       "* **Versatile:** Mangoes can be consumed fresh, frozen, dried, or processed into various products such as juices, jellies, and even pickles. They add a tropical touch to many cuisines worldwide.\n",
       "* **Medicinal properties:** Mangoes have traditionally been used in Ayurvedic medicine to treat a range of ailments, including digestive disorders, skin conditions, and fevers.\n",
       "* **Tropical aroma:** The distinctive aroma of mangoes evokes thoughts of warm climates and exotic destinations, making them a sensory delight.\n",
       "\n",
       "**Potential Drawbacks:**\n",
       "\n",
       "* **Messy:** Ripe mangoes can be quite messy to eat, with their juicy flesh and sticky sap. This can be a deterrent for some people.\n",
       "* **Allergies:** Some people may experience allergic reactions to mangoes, particularly if they are allergic to the sap. Symptoms can range from skin irritation to respiratory issues.\n",
       "* **Seasonal availability:** Mangoes are typically seasonal fruits and may not be readily available all year round.\n",
       "* **High calorie content:** While mangoes are nutritious, they also contain a relatively high amount of calories. This should be considered when consuming them as part of a balanced diet.\n",
       "* **Unripe fruit:** Unripe mangoes can be very sour and unpleasant to eat. It's important to choose mangoes that are fully ripe for the best flavor and nutritional value.\n",
       "\n",
       "**Overall:**\n",
       "\n",
       "Mangoes are a delicious, nutritious, and versatile tropical fruit that offers numerous health benefits. While they can be somewhat messy to consume and may have potential drawbacks for some individuals, they remain a popular favorite for many people around the world."
      ],
      "text/plain": [
       "<IPython.core.display.Markdown object>"
      ]
     },
     "execution_count": 26,
     "metadata": {},
     "output_type": "execute_result"
    }
   ],
   "source": [
    "Markdown(result.content)"
   ]
  },
  {
   "cell_type": "code",
   "execution_count": 27,
   "metadata": {},
   "outputs": [
    {
     "data": {
      "text/markdown": [
       "> **Positive Attributes:**\n",
       "> \n",
       "> * **Sweet and juicy:** Mangoes are renowned for their sweet and juicy flesh, making them a popular fruit for desserts, smoothies, and other culinary creations.\n",
       "> * **Rich in nutrients:** Mangoes are packed with essential vitamins and minerals, including vitamin C, potassium, iron, and fiber. They are a good source of antioxidants, which can help protect the body against cellular damage.\n",
       "> * **Versatile:** Mangoes can be consumed fresh, frozen, dried, or processed into various products such as juices, jellies, and even pickles. They add a tropical touch to many cuisines worldwide.\n",
       "> * **Medicinal properties:** Mangoes have traditionally been used in Ayurvedic medicine to treat a range of ailments, including digestive disorders, skin conditions, and fevers.\n",
       "> * **Tropical aroma:** The distinctive aroma of mangoes evokes thoughts of warm climates and exotic destinations, making them a sensory delight.\n",
       "> \n",
       "> **Potential Drawbacks:**\n",
       "> \n",
       "> * **Messy:** Ripe mangoes can be quite messy to eat, with their juicy flesh and sticky sap. This can be a deterrent for some people.\n",
       "> * **Allergies:** Some people may experience allergic reactions to mangoes, particularly if they are allergic to the sap. Symptoms can range from skin irritation to respiratory issues.\n",
       "> * **Seasonal availability:** Mangoes are typically seasonal fruits and may not be readily available all year round.\n",
       "> * **High calorie content:** While mangoes are nutritious, they also contain a relatively high amount of calories. This should be considered when consuming them as part of a balanced diet.\n",
       "> * **Unripe fruit:** Unripe mangoes can be very sour and unpleasant to eat. It's important to choose mangoes that are fully ripe for the best flavor and nutritional value.\n",
       "> \n",
       "> **Overall:**\n",
       "> \n",
       "> Mangoes are a delicious, nutritious, and versatile tropical fruit that offers numerous health benefits. While they can be somewhat messy to consume and may have potential drawbacks for some individuals, they remain a popular favorite for many people around the world."
      ],
      "text/plain": [
       "<IPython.core.display.Markdown object>"
      ]
     },
     "execution_count": 27,
     "metadata": {},
     "output_type": "execute_result"
    }
   ],
   "source": [
    "to_makedown(result.content)"
   ]
  },
  {
   "cell_type": "code",
   "execution_count": null,
   "metadata": {},
   "outputs": [],
   "source": []
  }
 ],
 "metadata": {
  "kernelspec": {
   "display_name": "lan",
   "language": "python",
   "name": "python3"
  },
  "language_info": {
   "codemirror_mode": {
    "name": "ipython",
    "version": 3
   },
   "file_extension": ".py",
   "mimetype": "text/x-python",
   "name": "python",
   "nbconvert_exporter": "python",
   "pygments_lexer": "ipython3",
   "version": "3.10.7"
  }
 },
 "nbformat": 4,
 "nbformat_minor": 2
}
